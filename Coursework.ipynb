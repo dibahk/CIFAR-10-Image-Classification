{
  "cells": [
    {
      "cell_type": "code",
      "execution_count": 3,
      "id": "fd4fca06-f3df-4d3d-8465-c493f7879612",
      "metadata": {
        "colab": {
          "base_uri": "https://localhost:8080/"
        },
        "id": "fd4fca06-f3df-4d3d-8465-c493f7879612",
        "outputId": "ecc2e54f-1d8e-441b-dcf7-e51fa8cf942e"
      },
      "outputs": [
        {
          "name": "stdout",
          "output_type": "stream",
          "text": [
            "Using cuda.\n"
          ]
        }
      ],
      "source": [
        "import torch\n",
        "device = torch.device('cuda' if torch.cuda.is_available() else 'cpu')\n",
        "print(f'Using {device}.')"
      ]
    },
    {
      "cell_type": "code",
      "execution_count": 4,
      "id": "85307fef-752a-4a8b-86d4-fb6f5d2f3e25",
      "metadata": {
        "id": "85307fef-752a-4a8b-86d4-fb6f5d2f3e25"
      },
      "outputs": [],
      "source": [
        "%matplotlib inline\n",
        "import matplotlib.pyplot as plt\n",
        "import torch\n",
        "import torchvision\n",
        "import torch.nn as nn\n",
        "import time"
      ]
    },
    {
      "cell_type": "code",
      "execution_count": 5,
      "id": "22cd635c-7e1e-453a-8324-c2cf1c1812da",
      "metadata": {
        "id": "22cd635c-7e1e-453a-8324-c2cf1c1812da"
      },
      "outputs": [],
      "source": [
        "# You don't need to understand this function for now.\n",
        "def load_data_CIFAR10(batch_size, resize=None):\n",
        "    \"\"\"Download the CIFAR10 dataset and then load it into memory.\"\"\"\n",
        "    trans = [torchvision.transforms.ToTensor()]\n",
        "    if resize:\n",
        "        trans.insert(0, torchvision.transforms.Resize(resize))\n",
        "    trans = torchvision.transforms.Compose(trans)\n",
        "    mnist_train = torchvision.datasets.CIFAR10(\n",
        "        root=\"./data\", train=True, transform=trans, download=True)\n",
        "    mnist_test = torchvision.datasets.CIFAR10(\n",
        "        root=\"./data\", train=False, transform=trans, download=True)\n",
        "    return (torch.utils.data.DataLoader(mnist_train, batch_size, shuffle=True,\n",
        "                            num_workers=2),\n",
        "            torch.utils.data.DataLoader(mnist_test, batch_size, shuffle=False,\n",
        "                            num_workers=2))"
      ]
    },
    {
      "cell_type": "code",
      "execution_count": 6,
      "id": "f86b1a98-2bd4-4d28-8aa9-b4e8536adb9c",
      "metadata": {
        "colab": {
          "base_uri": "https://localhost:8080/"
        },
        "id": "f86b1a98-2bd4-4d28-8aa9-b4e8536adb9c",
        "outputId": "1be0d880-cb3b-4733-d0d4-4dd489dfbcdd"
      },
      "outputs": [
        {
          "name": "stdout",
          "output_type": "stream",
          "text": [
            "Files already downloaded and verified\n",
            "Files already downloaded and verified\n"
          ]
        }
      ],
      "source": [
        "batch_size = 128 # Defines the batch size\n",
        "train_iter, test_iter = load_data_CIFAR10(batch_size)"
      ]
    },
    {
      "cell_type": "code",
      "execution_count": 7,
      "id": "0ecba6e7-eb01-4ee4-93c4-9ec60f808e52",
      "metadata": {
        "colab": {
          "base_uri": "https://localhost:8080/"
        },
        "id": "0ecba6e7-eb01-4ee4-93c4-9ec60f808e52",
        "outputId": "8e73182f-10de-4f8d-b6ef-bf876ffa0ece"
      },
      "outputs": [
        {
          "name": "stdout",
          "output_type": "stream",
          "text": [
            "torch.Size([128, 3, 32, 32])\n",
            "torch.Size([128])\n"
          ]
        }
      ],
      "source": [
        "X, y = next(iter(train_iter)) # Requests the first training batch\n",
        "print(X.size()) # 256 images per batch. Each image is represented by a 1 x 28 x 28 tensor (number of channels x height x width). The images are grayscale, so there is a single channel.\n",
        "print(y.size())"
      ]
    },
    {
      "cell_type": "markdown",
      "id": "2a0f4afa-cb66-47cc-83ea-31a3467ce3b8",
      "metadata": {
        "id": "2a0f4afa-cb66-47cc-83ea-31a3467ce3b8"
      },
      "source": [
        "## Intermediate Block Generator\n",
        "\n",
        "for creating each intermediate block a class has been definied. This class get the number of convolutional layers, and its layers and parameters."
      ]
    },
    {
      "cell_type": "code",
      "execution_count": 8,
      "id": "67ff0d21-e530-4f8e-994a-bde7be049a23",
      "metadata": {
        "id": "67ff0d21-e530-4f8e-994a-bde7be049a23"
      },
      "outputs": [],
      "source": [
        "# class BlockGen(nn.Module):\n",
        "#     # Creating Intermediate Blocks\n",
        "#     # the length of param indicates the number of intermediate blocks\n",
        "#     # each parameter is then inside the param for convolutional layers\n",
        "#     def __init__(self, in_channels, out_channels, c, layers, paddings, strides, kernels):\n",
        "#         super(BlockGen, self).__init__()\n",
        "#         self.relu = nn.ReLU()\n",
        "#         master_model = nn.ModuleList([])\n",
        "#         self.c = c\n",
        "#         self.layers = layers\n",
        "#         for i in range(c):\n",
        "#             convs = nn.ModuleList()\n",
        "#             for j in range(layers[i]):\n",
        "#                 convs.append(nn.Conv2d(in_channels[i][j], out_channels[i][j], kernel_size=kernels[i][j],stride= 1, padding= 'same'))\n",
        "#             master_model.append(convs)\n",
        "#         self.model = master_model\n",
        "#         # the fully-connected layer turning m to a to calculate the weights of convolutional layer in the final equation the output should be the same value as the number of concolutional layers\n",
        "#         self.fc = nn.Linear(in_channels[0][0], c)\n",
        "#         self.batchnorm2d = nn.BatchNorm2d(out_channels[i][j])\n",
        "#         self.maxpool = nn.MaxPool2d(kernel_size=3, stride=1)\n",
        "#         self.dropout = nn.Dropout(0.2)\n",
        "\n",
        "#     def forward(self, x):\n",
        "#         m = torch.mean(torch.flatten(x, 2), dim=2)\n",
        "#         a = self.fc(m)\n",
        "#         model = self.model\n",
        "#         out_list = []\n",
        "#         for i, mod in enumerate(model):\n",
        "#             out_list.append(0)\n",
        "#             weight = a[:, i].unsqueeze(1).unsqueeze(2).unsqueeze(3)\n",
        "#             out = x\n",
        "#             for model in mod:\n",
        "#                 out = model(out)\n",
        "\n",
        "#             out_list[i] =  weight * self.maxpool(out)\n",
        "\n",
        "#         output = torch.tensor(sum(out_list))\n",
        "#         return self.dropout(self.relu(self.batchnorm2d(output)))\n"
      ]
    },
    {
      "cell_type": "code",
      "execution_count": 9,
      "id": "cf1cff80",
      "metadata": {},
      "outputs": [],
      "source": [
        "class BlockGen(nn.Module):\n",
        "    # Creating Intermediate Blocks\n",
        "    # the length of param indicates the number of intermediate blocks\n",
        "    # each parameter is then inside the param for convolutional layers\n",
        "    def __init__(self, in_channels, out_channels, kernels, c):\n",
        "        super(BlockGen, self).__init__()\n",
        "        self.relu = nn.ReLU()\n",
        "\n",
        "        self.layers = layers\n",
        "        for i in range(c):\n",
        "            convs = nn.ModuleList()\n",
        "            convs.append(nn.Conv2d(in_channels, out_channels, kernel_size=kernels,stride= 1, padding= 'same'))\n",
        "\n",
        "        self.model = convs\n",
        "        # the fully-connected layer turning m to a to calculate the weights of convolutional layer in the final equation the output should be the same value as the number of concolutional layers\n",
        "        self.fc = nn.Linear(in_channels[0][0], c)\n",
        "        self.batchnorm2d = nn.BatchNorm2d(out_channels[i])\n",
        "        self.maxpool = nn.MaxPool2d(kernel_size=2, stride=1)\n",
        "        self.dropout = nn.Dropout(0.2)\n",
        "\n",
        "    def forward(self, x):\n",
        "        m = torch.mean(torch.flatten(x, 2), dim=2)\n",
        "        a = self.fc(m)\n",
        "        model = self.model\n",
        "        out_list = []\n",
        "        for i, mod in enumerate(model):\n",
        "            out_list.append(0)\n",
        "            weight = a[:, i].unsqueeze(1).unsqueeze(2).unsqueeze(3)\n",
        "            out = x\n",
        "            for model in mod:\n",
        "                out = model(out)\n",
        "\n",
        "            out_list[i] =  weight * self.maxpool(out)\n",
        "\n",
        "        output = torch.tensor(sum(out_list))\n",
        "        return self.dropout(self.relu(self.batchnorm2d(output)))\n"
      ]
    },
    {
      "cell_type": "code",
      "execution_count": 10,
      "id": "406ed366-1730-4f9f-a495-32f60fbb0d3b",
      "metadata": {
        "id": "406ed366-1730-4f9f-a495-32f60fbb0d3b"
      },
      "outputs": [],
      "source": [
        "class FinalModel(nn.Module):\n",
        "    # Creating Intermediate Blocks\n",
        "    # the length of param indicates the number of intermediate blocks\n",
        "    # each parameter is then inside the param for convolutional layers\n",
        "    def __init__(self, num_block, c, in_channels, out_channels, kernels):\n",
        "        super(FinalModel, self).__init__()\n",
        "        blocks = nn.ModuleList([])\n",
        "        for i in range(num_block):\n",
        "            blocks.append(BlockGen(in_channels=in_channels[i], out_channels=out_channels[i], kernels=kernels, c=c[i]))\n",
        "            # print('block done')\n",
        "        self.blocks = blocks\n",
        "        self.fc1 = nn.Linear(out_channels[-1], 64)\n",
        "        self.fc2 = nn.Linear(64, 10)\n",
        "\n",
        "    def forward(self, x):\n",
        "        # creating the convolutional neurons in the layer of the block\n",
        "        out_list = nn.ModuleList([])\n",
        "        for model in self.blocks:\n",
        "            x = model(x)\n",
        "\n",
        "        channel_avg = torch.mean(torch.flatten(x, 2), dim=2)\n",
        "        out = self.fc1(channel_avg)\n",
        "        out = self.fc2(out)\n",
        "\n",
        "        return out"
      ]
    },
    {
      "cell_type": "markdown",
      "id": "22134dca-2b56-4a68-9171-7d4a1e30bd03",
      "metadata": {
        "id": "22134dca-2b56-4a68-9171-7d4a1e30bd03"
      },
      "source": [
        "Defining parameters"
      ]
    },
    {
      "cell_type": "code",
      "execution_count": 11,
      "id": "bs0zav4E5KyE",
      "metadata": {
        "id": "bs0zav4E5KyE"
      },
      "outputs": [],
      "source": [
        "num_blocks = 5\n",
        "c = [15,15,15,15,15]\n",
        "kernels = [5,5,7,5,6,5,5,5,4,4,4,3,3,3,1]\n",
        "# paddings = [[[2,0,0],[0,0]],[[2,0],[1,0]],[['same']],[['same'],['same']]]\n",
        "# strides = [[[1,2,1],[2,1],[1],[1]], [[1,1],[1,1]], [[1]],[[1],[1]]]\n",
        "in_channels = [3,8,16,32,64]\n",
        "out_channels = [8,16,32,64,128]"
      ]
    },
    {
      "cell_type": "code",
      "execution_count": 137,
      "id": "b20eb47d",
      "metadata": {},
      "outputs": [],
      "source": [
        "# num_blocks = 5\n",
        "# c = [1,1,1,1,1]\n",
        "# layers = [[15],[15],[15],[15],[15]]\n",
        "# kernels = [[[5]],[[6]],[[7]],[[4]],[[3]]]\n",
        "# # paddings = [[[2,0,0],[0,0]],[[2,0],[1,0]],[['same']],[['same'],['same']]]\n",
        "# # strides = [[[1,2,1],[2,1],[1],[1]], [[1,1],[1,1]], [[1]],[[1],[1]]]\n",
        "# in_channels = [[[3]],[[8]],[[16]],[[32]],[[64]]]\n",
        "# out_channels = [[[8]],[[16]],[[32]],[[64]],[[128]]]"
      ]
    },
    {
      "cell_type": "code",
      "execution_count": 138,
      "id": "3ff33962-1308-4110-b98b-43bf60878756",
      "metadata": {
        "id": "3ff33962-1308-4110-b98b-43bf60878756"
      },
      "outputs": [],
      "source": [
        "# num_blocks = 4\n",
        "# c = [5, 2, 1, 2]\n",
        "# layers = [[3, 2, 1, 1, 1], [2, 2], [1], [1, 1]]\n",
        "# kernels = [[[5,5,3],[4,4],[3],[5],[7]],[[5,3],[3,5]],[[3]],[[3],[5]]]\n",
        "# # paddings = [[[2,0,0],[0,0]],[[2,0],[1,0]],[['same']],[['same'],['same']]]\n",
        "# # strides = [[[1,2,1],[2,1],[1],[1]], [[1,1],[1,1]], [[1]],[[1],[1]]]\n",
        "# in_channels = [[[3,6,16],[3,16],[3],[3],[3]],[[32,64],[32,64]], [[128]],[[256],[256]]]\n",
        "# out_channels = [[[6,16,32],[16,32],[32],[32],[32]],[[64,128],[64,128]],[[256]],[[512],[512]]]"
      ]
    },
    {
      "cell_type": "code",
      "execution_count": 12,
      "id": "8cb6ae26-f43d-424b-915b-f421766d7619",
      "metadata": {
        "colab": {
          "base_uri": "https://localhost:8080/"
        },
        "id": "8cb6ae26-f43d-424b-915b-f421766d7619",
        "outputId": "506a131f-5f96-4e85-f884-9106dd1750e9"
      },
      "outputs": [
        {
          "ename": "NameError",
          "evalue": "name 'layers' is not defined",
          "output_type": "error",
          "traceback": [
            "\u001b[0;31m---------------------------------------------------------------------------\u001b[0m",
            "\u001b[0;31mNameError\u001b[0m                                 Traceback (most recent call last)",
            "\u001b[1;32m/teamspace/studios/this_studio/Coursework_(1).ipynb Cell 14\u001b[0m line \u001b[0;36m7\n\u001b[1;32m      <a href='vscode-notebook-cell://vscode-01hvhqvz937cvegtg7d9xdsw36.studio.lightning.ai/teamspace/studios/this_studio/Coursework_%281%29.ipynb#X14sdnNjb2RlLXJlbW90ZQ%3D%3D?line=3'>4</a>\u001b[0m         torch\u001b[39m.\u001b[39mnn\u001b[39m.\u001b[39minit\u001b[39m.\u001b[39mxavier_uniform_(m\u001b[39m.\u001b[39mweight)\n\u001b[1;32m      <a href='vscode-notebook-cell://vscode-01hvhqvz937cvegtg7d9xdsw36.studio.lightning.ai/teamspace/studios/this_studio/Coursework_%281%29.ipynb#X14sdnNjb2RlLXJlbW90ZQ%3D%3D?line=5'>6</a>\u001b[0m \u001b[39m# num_outputs = 10\u001b[39;00m\n\u001b[0;32m----> <a href='vscode-notebook-cell://vscode-01hvhqvz937cvegtg7d9xdsw36.studio.lightning.ai/teamspace/studios/this_studio/Coursework_%281%29.ipynb#X14sdnNjb2RlLXJlbW90ZQ%3D%3D?line=6'>7</a>\u001b[0m model \u001b[39m=\u001b[39m FinalModel(num_block\u001b[39m=\u001b[39;49mnum_blocks, c \u001b[39m=\u001b[39;49m c, in_channels\u001b[39m=\u001b[39;49min_channels, out_channels\u001b[39m=\u001b[39;49mout_channels, kernels\u001b[39m=\u001b[39;49m kernels)\u001b[39m.\u001b[39mto(device)\n\u001b[1;32m      <a href='vscode-notebook-cell://vscode-01hvhqvz937cvegtg7d9xdsw36.studio.lightning.ai/teamspace/studios/this_studio/Coursework_%281%29.ipynb#X14sdnNjb2RlLXJlbW90ZQ%3D%3D?line=7'>8</a>\u001b[0m model\u001b[39m.\u001b[39mapply(init_weights) \u001b[39m# Applies `init_weights` to every `torch.nn.Module` inside `model`\u001b[39;00m\n",
            "\u001b[1;32m/teamspace/studios/this_studio/Coursework_(1).ipynb Cell 14\u001b[0m line \u001b[0;36m9\n\u001b[1;32m      <a href='vscode-notebook-cell://vscode-01hvhqvz937cvegtg7d9xdsw36.studio.lightning.ai/teamspace/studios/this_studio/Coursework_%281%29.ipynb#X14sdnNjb2RlLXJlbW90ZQ%3D%3D?line=6'>7</a>\u001b[0m blocks \u001b[39m=\u001b[39m nn\u001b[39m.\u001b[39mModuleList([])\n\u001b[1;32m      <a href='vscode-notebook-cell://vscode-01hvhqvz937cvegtg7d9xdsw36.studio.lightning.ai/teamspace/studios/this_studio/Coursework_%281%29.ipynb#X14sdnNjb2RlLXJlbW90ZQ%3D%3D?line=7'>8</a>\u001b[0m \u001b[39mfor\u001b[39;00m i \u001b[39min\u001b[39;00m \u001b[39mrange\u001b[39m(num_block):\n\u001b[0;32m----> <a href='vscode-notebook-cell://vscode-01hvhqvz937cvegtg7d9xdsw36.studio.lightning.ai/teamspace/studios/this_studio/Coursework_%281%29.ipynb#X14sdnNjb2RlLXJlbW90ZQ%3D%3D?line=8'>9</a>\u001b[0m     blocks\u001b[39m.\u001b[39mappend(BlockGen(in_channels\u001b[39m=\u001b[39;49min_channels[i], out_channels\u001b[39m=\u001b[39;49mout_channels[i], kernels\u001b[39m=\u001b[39;49mkernels, c\u001b[39m=\u001b[39;49mc[i]))\n\u001b[1;32m     <a href='vscode-notebook-cell://vscode-01hvhqvz937cvegtg7d9xdsw36.studio.lightning.ai/teamspace/studios/this_studio/Coursework_%281%29.ipynb#X14sdnNjb2RlLXJlbW90ZQ%3D%3D?line=9'>10</a>\u001b[0m     \u001b[39m# print('block done')\u001b[39;00m\n\u001b[1;32m     <a href='vscode-notebook-cell://vscode-01hvhqvz937cvegtg7d9xdsw36.studio.lightning.ai/teamspace/studios/this_studio/Coursework_%281%29.ipynb#X14sdnNjb2RlLXJlbW90ZQ%3D%3D?line=10'>11</a>\u001b[0m \u001b[39mself\u001b[39m\u001b[39m.\u001b[39mblocks \u001b[39m=\u001b[39m blocks\n",
            "\u001b[1;32m/teamspace/studios/this_studio/Coursework_(1).ipynb Cell 14\u001b[0m line \u001b[0;36m9\n\u001b[1;32m      <a href='vscode-notebook-cell://vscode-01hvhqvz937cvegtg7d9xdsw36.studio.lightning.ai/teamspace/studios/this_studio/Coursework_%281%29.ipynb#X14sdnNjb2RlLXJlbW90ZQ%3D%3D?line=5'>6</a>\u001b[0m \u001b[39msuper\u001b[39m(BlockGen, \u001b[39mself\u001b[39m)\u001b[39m.\u001b[39m\u001b[39m__init__\u001b[39m()\n\u001b[1;32m      <a href='vscode-notebook-cell://vscode-01hvhqvz937cvegtg7d9xdsw36.studio.lightning.ai/teamspace/studios/this_studio/Coursework_%281%29.ipynb#X14sdnNjb2RlLXJlbW90ZQ%3D%3D?line=6'>7</a>\u001b[0m \u001b[39mself\u001b[39m\u001b[39m.\u001b[39mrelu \u001b[39m=\u001b[39m nn\u001b[39m.\u001b[39mReLU()\n\u001b[0;32m----> <a href='vscode-notebook-cell://vscode-01hvhqvz937cvegtg7d9xdsw36.studio.lightning.ai/teamspace/studios/this_studio/Coursework_%281%29.ipynb#X14sdnNjb2RlLXJlbW90ZQ%3D%3D?line=8'>9</a>\u001b[0m \u001b[39mself\u001b[39m\u001b[39m.\u001b[39mlayers \u001b[39m=\u001b[39m layers\n\u001b[1;32m     <a href='vscode-notebook-cell://vscode-01hvhqvz937cvegtg7d9xdsw36.studio.lightning.ai/teamspace/studios/this_studio/Coursework_%281%29.ipynb#X14sdnNjb2RlLXJlbW90ZQ%3D%3D?line=9'>10</a>\u001b[0m \u001b[39mfor\u001b[39;00m i \u001b[39min\u001b[39;00m \u001b[39mrange\u001b[39m(c):\n\u001b[1;32m     <a href='vscode-notebook-cell://vscode-01hvhqvz937cvegtg7d9xdsw36.studio.lightning.ai/teamspace/studios/this_studio/Coursework_%281%29.ipynb#X14sdnNjb2RlLXJlbW90ZQ%3D%3D?line=10'>11</a>\u001b[0m     convs \u001b[39m=\u001b[39m nn\u001b[39m.\u001b[39mModuleList()\n",
            "\u001b[0;31mNameError\u001b[0m: name 'layers' is not defined"
          ]
        }
      ],
      "source": [
        "# Applies Xavier initialization if the `torch.nn.Module` is `torch.nn.Linear` or `torch.nn.Conv2d`\n",
        "def init_weights(m):\n",
        "    if type(m) == torch.nn.Linear or type(m) == torch.nn.Conv2d:\n",
        "        torch.nn.init.xavier_uniform_(m.weight)\n",
        "\n",
        "# num_outputs = 10\n",
        "model = FinalModel(num_block=num_blocks, c = c, in_channels=in_channels, out_channels=out_channels, kernels= kernels).to(device)\n",
        "model.apply(init_weights) # Applies `init_weights` to every `torch.nn.Module` inside `model`"
      ]
    },
    {
      "cell_type": "code",
      "execution_count": 101,
      "id": "4aafe4a0",
      "metadata": {},
      "outputs": [],
      "source": [
        "# # Applies Xavier initialization if the `torch.nn.Module` is `torch.nn.Linear` or `torch.nn.Conv2d`\n",
        "# def init_weights(m):\n",
        "#     if type(m) == torch.nn.Linear or type(m) == torch.nn.Conv2d:\n",
        "#         torch.nn.init.xavier_uniform_(m.weight)\n",
        "\n",
        "# # num_outputs = 10\n",
        "# model = FinalModel(num_block=num_blocks, c = c, layers = layers, in_channels=in_channels, out_channels=out_channels, kernels= kernels).to(device)\n",
        "# model.apply(init_weights) # Applies `init_weights` to every `torch.nn.Module` inside `model`"
      ]
    },
    {
      "cell_type": "code",
      "execution_count": 102,
      "id": "62987da8-567b-4690-8e9c-2d0a05481ce1",
      "metadata": {
        "id": "62987da8-567b-4690-8e9c-2d0a05481ce1"
      },
      "outputs": [],
      "source": [
        "loss = torch.nn.CrossEntropyLoss()"
      ]
    },
    {
      "cell_type": "code",
      "execution_count": 103,
      "id": "6a8fb2b4-1828-4960-81a1-49c84469adbb",
      "metadata": {
        "id": "6a8fb2b4-1828-4960-81a1-49c84469adbb"
      },
      "outputs": [],
      "source": [
        "lr = 0.009\n",
        "optimizer = torch.optim.Adam(model.parameters(), lr=lr)"
      ]
    },
    {
      "cell_type": "code",
      "execution_count": 104,
      "id": "27f79f66-bf58-4a62-912a-b4b0931a9a70",
      "metadata": {
        "id": "27f79f66-bf58-4a62-912a-b4b0931a9a70"
      },
      "outputs": [],
      "source": [
        "def correct(logits, y):\n",
        "    y_hat = logits.argmax(axis=1) # Finds the column with the highest value for each row of `logits`.\n",
        "    return (y_hat == y).float().sum() # Computes the number of times that `y_hat` and `y` match."
      ]
    },
    {
      "cell_type": "code",
      "execution_count": 105,
      "id": "440558aa-4038-48a2-9668-ea8b5a882e6e",
      "metadata": {
        "id": "440558aa-4038-48a2-9668-ea8b5a882e6e"
      },
      "outputs": [],
      "source": [
        "def evaluate_metric(model, data_iter, metric):\n",
        "    \"\"\"Compute the average `metric` of the model on a dataset.\"\"\"\n",
        "    c = torch.tensor(0.).to(device)\n",
        "    n = torch.tensor(0.).to(device)\n",
        "    j = 0\n",
        "    for X, y in data_iter:\n",
        "        X, y = X.to(device), y.to(device) # Moves data to `device`\n",
        "        logits = model(X)\n",
        "        c += metric(logits, y)\n",
        "        n += len(y)\n",
        "    return c*100 / n"
      ]
    },
    {
      "cell_type": "code",
      "execution_count": 106,
      "id": "6698f82c-1c72-4e07-9305-e07e0c612058",
      "metadata": {
        "colab": {
          "base_uri": "https://localhost:8080/",
          "height": 371
        },
        "id": "6698f82c-1c72-4e07-9305-e07e0c612058",
        "outputId": "962da832-d664-4e1b-daab-23deb8497807"
      },
      "outputs": [
        {
          "name": "stderr",
          "output_type": "stream",
          "text": [
            "/tmp/ipykernel_1862/1535056675.py:37: UserWarning: To copy construct from a tensor, it is recommended to use sourceTensor.clone().detach() or sourceTensor.clone().detach().requires_grad_(True), rather than torch.tensor(sourceTensor).\n",
            "  output = torch.tensor(sum(out_list))\n"
          ]
        },
        {
          "name": "stdout",
          "output_type": "stream",
          "text": [
            "Training accuracy: 32.02000045776367. Testing accuracy: 32.41999816894531.\n"
          ]
        }
      ],
      "source": [
        "model.eval()\n",
        "print(f'Training accuracy: {evaluate_metric(model, train_iter, correct)}. Testing accuracy: {evaluate_metric(model, test_iter, correct)}.')"
      ]
    },
    {
      "cell_type": "markdown",
      "id": "6c7b1a07-3d66-4feb-a942-24ff75bf12b2",
      "metadata": {
        "id": "6c7b1a07-3d66-4feb-a942-24ff75bf12b2"
      },
      "source": [
        "## Training"
      ]
    },
    {
      "cell_type": "code",
      "execution_count": 107,
      "id": "6d1d9280-c122-4640-9b38-49e889393cbd",
      "metadata": {
        "colab": {
          "base_uri": "https://localhost:8080/"
        },
        "id": "6d1d9280-c122-4640-9b38-49e889393cbd",
        "outputId": "7e6a200f-5afb-49e6-fd1c-6662fb8ed1cc"
      },
      "outputs": [
        {
          "name": "stdout",
          "output_type": "stream",
          "text": [
            "\n",
            "Epoch 1/200.\n"
          ]
        },
        {
          "name": "stderr",
          "output_type": "stream",
          "text": [
            "/tmp/ipykernel_1862/1535056675.py:37: UserWarning: To copy construct from a tensor, it is recommended to use sourceTensor.clone().detach() or sourceTensor.clone().detach().requires_grad_(True), rather than torch.tensor(sourceTensor).\n",
            "  output = torch.tensor(sum(out_list))\n"
          ]
        },
        {
          "name": "stdout",
          "output_type": "stream",
          "text": [
            "Training accuracy: 29.441999435424805. Testing accuracy: 29.6200008392334. Duration: 7.649s.\n",
            "\n",
            "Epoch 2/200.\n",
            "Training accuracy: 29.621999740600586. Testing accuracy: 30.459999084472656. Duration: 7.598s.\n",
            "\n",
            "Epoch 3/200.\n",
            "Training accuracy: 31.104000091552734. Testing accuracy: 31.31999969482422. Duration: 7.651s.\n",
            "\n",
            "Epoch 4/200.\n",
            "Training accuracy: 30.562000274658203. Testing accuracy: 31.020000457763672. Duration: 7.622s.\n",
            "\n",
            "Epoch 5/200.\n",
            "Training accuracy: 30.507999420166016. Testing accuracy: 30.8799991607666. Duration: 7.725s.\n",
            "\n",
            "Epoch 6/200.\n",
            "Training accuracy: 31.027999877929688. Testing accuracy: 31.6200008392334. Duration: 7.625s.\n",
            "\n",
            "Epoch 7/200.\n",
            "Training accuracy: 31.43199920654297. Testing accuracy: 31.809999465942383. Duration: 7.684s.\n",
            "\n",
            "Epoch 8/200.\n",
            "Training accuracy: 32.040000915527344. Testing accuracy: 32.470001220703125. Duration: 7.638s.\n",
            "\n",
            "Epoch 9/200.\n",
            "Training accuracy: 33.082000732421875. Testing accuracy: 33.349998474121094. Duration: 7.643s.\n",
            "\n",
            "Epoch 10/200.\n",
            "Training accuracy: 31.79400062561035. Testing accuracy: 31.940000534057617. Duration: 7.648s.\n",
            "\n",
            "Epoch 11/200.\n",
            "Training accuracy: 31.323999404907227. Testing accuracy: 31.200000762939453. Duration: 7.620s.\n",
            "\n",
            "Epoch 12/200.\n",
            "Training accuracy: 28.211999893188477. Testing accuracy: 28.899999618530273. Duration: 7.654s.\n",
            "\n",
            "Epoch 13/200.\n",
            "Training accuracy: 31.829999923706055. Testing accuracy: 31.950000762939453. Duration: 7.634s.\n",
            "\n",
            "Epoch 14/200.\n",
            "Training accuracy: 29.913999557495117. Testing accuracy: 30.450000762939453. Duration: 7.621s.\n",
            "\n",
            "Epoch 15/200.\n",
            "Training accuracy: 31.86199951171875. Testing accuracy: 31.780000686645508. Duration: 7.639s.\n",
            "\n",
            "Epoch 16/200.\n",
            "Training accuracy: 32.402000427246094. Testing accuracy: 32.33000183105469. Duration: 7.621s.\n",
            "\n",
            "Epoch 17/200.\n",
            "Training accuracy: 31.73200035095215. Testing accuracy: 32.459999084472656. Duration: 7.625s.\n",
            "\n",
            "Epoch 18/200.\n",
            "Training accuracy: 31.158000946044922. Testing accuracy: 31.530000686645508. Duration: 7.660s.\n",
            "\n",
            "Epoch 19/200.\n",
            "Training accuracy: 30.43600082397461. Testing accuracy: 30.639999389648438. Duration: 7.669s.\n",
            "\n",
            "Epoch 20/200.\n",
            "Training accuracy: 28.950000762939453. Testing accuracy: 29.219999313354492. Duration: 7.622s.\n",
            "\n",
            "Epoch 21/200.\n",
            "Training accuracy: 32.4739990234375. Testing accuracy: 32.75. Duration: 7.611s.\n",
            "\n",
            "Epoch 22/200.\n",
            "Training accuracy: 31.191999435424805. Testing accuracy: 31.56999969482422. Duration: 7.661s.\n",
            "\n",
            "Epoch 23/200.\n",
            "Training accuracy: 29.738000869750977. Testing accuracy: 29.950000762939453. Duration: 7.611s.\n",
            "\n",
            "Epoch 24/200.\n",
            "Training accuracy: 31.84600067138672. Testing accuracy: 31.6200008392334. Duration: 7.612s.\n",
            "\n",
            "Epoch 25/200.\n",
            "Training accuracy: 31.100000381469727. Testing accuracy: 31.360000610351562. Duration: 7.623s.\n",
            "\n",
            "Epoch 26/200.\n",
            "Training accuracy: 31.034000396728516. Testing accuracy: 31.18000030517578. Duration: 7.639s.\n",
            "\n",
            "Epoch 27/200.\n",
            "Training accuracy: 30.378000259399414. Testing accuracy: 31.040000915527344. Duration: 7.637s.\n",
            "\n",
            "Epoch 28/200.\n",
            "Training accuracy: 32.33599853515625. Testing accuracy: 31.920000076293945. Duration: 7.564s.\n",
            "\n",
            "Epoch 29/200.\n",
            "Training accuracy: 31.469999313354492. Testing accuracy: 32.119998931884766. Duration: 7.639s.\n",
            "\n",
            "Epoch 30/200.\n",
            "Training accuracy: 30.718000411987305. Testing accuracy: 31.170000076293945. Duration: 7.625s.\n",
            "\n",
            "Epoch 31/200.\n",
            "Training accuracy: 31.190000534057617. Testing accuracy: 31.280000686645508. Duration: 7.660s.\n",
            "\n",
            "Epoch 32/200.\n",
            "Training accuracy: 32.2140007019043. Testing accuracy: 32.59000015258789. Duration: 7.601s.\n",
            "\n",
            "Epoch 33/200.\n",
            "Training accuracy: 32.737998962402344. Testing accuracy: 32.81999969482422. Duration: 7.670s.\n",
            "\n",
            "Epoch 34/200.\n",
            "Training accuracy: 31.583999633789062. Testing accuracy: 31.75. Duration: 7.699s.\n",
            "\n",
            "Epoch 35/200.\n",
            "Training accuracy: 30.8700008392334. Testing accuracy: 31.149999618530273. Duration: 7.622s.\n",
            "\n",
            "Epoch 36/200.\n",
            "Training accuracy: 31.422000885009766. Testing accuracy: 31.56999969482422. Duration: 7.624s.\n",
            "\n",
            "Epoch 37/200.\n",
            "Training accuracy: 32.0880012512207. Testing accuracy: 32.2400016784668. Duration: 7.662s.\n",
            "\n",
            "Epoch 38/200.\n",
            "Training accuracy: 31.426000595092773. Testing accuracy: 31.690000534057617. Duration: 7.670s.\n",
            "\n",
            "Epoch 39/200.\n",
            "Training accuracy: 32.1619987487793. Testing accuracy: 32.5099983215332. Duration: 7.645s.\n",
            "\n",
            "Epoch 40/200.\n",
            "Training accuracy: 30.986000061035156. Testing accuracy: 31.399999618530273. Duration: 7.617s.\n",
            "\n",
            "Epoch 41/200.\n",
            "Training accuracy: 31.884000778198242. Testing accuracy: 32.13999938964844. Duration: 7.634s.\n",
            "\n",
            "Epoch 42/200.\n",
            "Training accuracy: 30.576000213623047. Testing accuracy: 30.860000610351562. Duration: 7.641s.\n",
            "\n",
            "Epoch 43/200.\n",
            "Training accuracy: 29.58799934387207. Testing accuracy: 29.799999237060547. Duration: 7.662s.\n",
            "\n",
            "Epoch 44/200.\n",
            "Training accuracy: 31.790000915527344. Testing accuracy: 32.16999816894531. Duration: 7.664s.\n",
            "\n",
            "Epoch 45/200.\n",
            "Training accuracy: 30.243999481201172. Testing accuracy: 30.3799991607666. Duration: 7.697s.\n",
            "\n",
            "Epoch 46/200.\n",
            "Training accuracy: 29.788000106811523. Testing accuracy: 29.860000610351562. Duration: 7.613s.\n",
            "\n",
            "Epoch 47/200.\n",
            "Training accuracy: 29.687999725341797. Testing accuracy: 29.780000686645508. Duration: 7.578s.\n",
            "\n",
            "Epoch 48/200.\n",
            "Training accuracy: 31.468000411987305. Testing accuracy: 31.530000686645508. Duration: 7.639s.\n",
            "\n",
            "Epoch 49/200.\n",
            "Training accuracy: 29.25200080871582. Testing accuracy: 29.489999771118164. Duration: 7.628s.\n",
            "\n",
            "Epoch 50/200.\n",
            "Training accuracy: 30.360000610351562. Testing accuracy: 30.399999618530273. Duration: 7.609s.\n",
            "\n",
            "Epoch 51/200.\n",
            "Training accuracy: 32.279998779296875. Testing accuracy: 32.2599983215332. Duration: 7.622s.\n",
            "\n",
            "Epoch 52/200.\n",
            "Training accuracy: 29.56399917602539. Testing accuracy: 29.850000381469727. Duration: 7.624s.\n",
            "\n",
            "Epoch 53/200.\n",
            "Training accuracy: 32.7760009765625. Testing accuracy: 32.779998779296875. Duration: 7.609s.\n",
            "\n",
            "Epoch 54/200.\n",
            "Training accuracy: 31.312000274658203. Testing accuracy: 31.43000030517578. Duration: 7.603s.\n",
            "\n",
            "Epoch 55/200.\n",
            "Training accuracy: 31.149999618530273. Testing accuracy: 30.950000762939453. Duration: 7.648s.\n",
            "\n",
            "Epoch 56/200.\n",
            "Training accuracy: 28.336000442504883. Testing accuracy: 29.010000228881836. Duration: 7.630s.\n",
            "\n",
            "Epoch 57/200.\n",
            "Training accuracy: 31.856000900268555. Testing accuracy: 32.34000015258789. Duration: 7.673s.\n",
            "\n",
            "Epoch 58/200.\n",
            "Training accuracy: 32.7760009765625. Testing accuracy: 32.79999923706055. Duration: 7.685s.\n",
            "\n",
            "Epoch 59/200.\n",
            "Training accuracy: 31.51799964904785. Testing accuracy: 31.780000686645508. Duration: 7.684s.\n",
            "\n",
            "Epoch 60/200.\n",
            "Training accuracy: 31.586000442504883. Testing accuracy: 31.889999389648438. Duration: 7.623s.\n",
            "\n",
            "Epoch 61/200.\n",
            "Training accuracy: 31.260000228881836. Testing accuracy: 31.1200008392334. Duration: 7.609s.\n",
            "\n",
            "Epoch 62/200.\n",
            "Training accuracy: 31.610000610351562. Testing accuracy: 31.809999465942383. Duration: 7.624s.\n",
            "\n",
            "Epoch 63/200.\n",
            "Training accuracy: 27.82200050354004. Testing accuracy: 27.799999237060547. Duration: 7.630s.\n",
            "\n",
            "Epoch 64/200.\n",
            "Training accuracy: 32.29600143432617. Testing accuracy: 32.45000076293945. Duration: 7.646s.\n",
            "\n",
            "Epoch 65/200.\n",
            "Training accuracy: 31.802000045776367. Testing accuracy: 31.950000762939453. Duration: 7.610s.\n",
            "\n",
            "Epoch 66/200.\n",
            "Training accuracy: 32.88800048828125. Testing accuracy: 33.36000061035156. Duration: 7.641s.\n",
            "\n",
            "Epoch 67/200.\n",
            "Training accuracy: 31.00200080871582. Testing accuracy: 30.559999465942383. Duration: 7.696s.\n",
            "\n",
            "Epoch 68/200.\n",
            "Training accuracy: 32.040000915527344. Testing accuracy: 32.040000915527344. Duration: 7.633s.\n",
            "\n",
            "Epoch 69/200.\n",
            "Training accuracy: 31.860000610351562. Testing accuracy: 32.15999984741211. Duration: 7.663s.\n",
            "\n",
            "Epoch 70/200.\n",
            "Training accuracy: 31.408000946044922. Testing accuracy: 31.329999923706055. Duration: 7.612s.\n",
            "\n",
            "Epoch 71/200.\n",
            "Training accuracy: 31.711999893188477. Testing accuracy: 31.780000686645508. Duration: 7.651s.\n",
            "\n",
            "Epoch 72/200.\n",
            "Training accuracy: 32.43199920654297. Testing accuracy: 32.869998931884766. Duration: 7.617s.\n",
            "\n",
            "Epoch 73/200.\n",
            "Training accuracy: 30.86199951171875. Testing accuracy: 31.270000457763672. Duration: 7.643s.\n",
            "\n",
            "Epoch 74/200.\n",
            "Training accuracy: 32.50199890136719. Testing accuracy: 32.41999816894531. Duration: 7.601s.\n",
            "\n",
            "Epoch 75/200.\n",
            "Training accuracy: 32.08000183105469. Testing accuracy: 32.029998779296875. Duration: 7.602s.\n",
            "\n",
            "Epoch 76/200.\n",
            "Training accuracy: 32.28200149536133. Testing accuracy: 32.29999923706055. Duration: 7.610s.\n",
            "\n",
            "Epoch 77/200.\n",
            "Training accuracy: 32.37200164794922. Testing accuracy: 32.470001220703125. Duration: 7.628s.\n",
            "\n",
            "Epoch 78/200.\n",
            "Training accuracy: 32.518001556396484. Testing accuracy: 32.68000030517578. Duration: 7.585s.\n",
            "\n",
            "Epoch 79/200.\n",
            "Training accuracy: 28.464000701904297. Testing accuracy: 28.520000457763672. Duration: 7.626s.\n",
            "\n",
            "Epoch 80/200.\n",
            "Training accuracy: 30.76799964904785. Testing accuracy: 30.790000915527344. Duration: 7.628s.\n",
            "\n",
            "Epoch 81/200.\n",
            "Training accuracy: 32.10599899291992. Testing accuracy: 32.75. Duration: 7.611s.\n",
            "\n",
            "Epoch 82/200.\n",
            "Training accuracy: 32.104000091552734. Testing accuracy: 32.400001525878906. Duration: 7.694s.\n",
            "\n",
            "Epoch 83/200.\n",
            "Training accuracy: 32.70000076293945. Testing accuracy: 32.90999984741211. Duration: 7.621s.\n",
            "\n",
            "Epoch 84/200.\n",
            "Training accuracy: 30.718000411987305. Testing accuracy: 31.219999313354492. Duration: 7.612s.\n",
            "\n",
            "Epoch 85/200.\n",
            "Training accuracy: 32.95000076293945. Testing accuracy: 33.38999938964844. Duration: 7.652s.\n",
            "\n",
            "Epoch 86/200.\n",
            "Training accuracy: 31.086000442504883. Testing accuracy: 31.520000457763672. Duration: 7.627s.\n",
            "\n",
            "Epoch 87/200.\n",
            "Training accuracy: 31.224000930786133. Testing accuracy: 31.3700008392334. Duration: 7.654s.\n",
            "\n",
            "Epoch 88/200.\n",
            "Training accuracy: 30.75. Testing accuracy: 31.059999465942383. Duration: 7.603s.\n",
            "\n",
            "Epoch 89/200.\n",
            "Training accuracy: 31.854000091552734. Testing accuracy: 32.08000183105469. Duration: 7.647s.\n",
            "\n",
            "Epoch 90/200.\n",
            "Training accuracy: 31.378000259399414. Testing accuracy: 31.479999542236328. Duration: 7.596s.\n",
            "\n",
            "Epoch 91/200.\n",
            "Training accuracy: 32.19599914550781. Testing accuracy: 32.31999969482422. Duration: 7.633s.\n",
            "\n",
            "Epoch 92/200.\n",
            "Training accuracy: 31.784000396728516. Testing accuracy: 31.579999923706055. Duration: 7.639s.\n",
            "\n",
            "Epoch 93/200.\n",
            "Training accuracy: 31.969999313354492. Testing accuracy: 32.29999923706055. Duration: 7.628s.\n",
            "\n",
            "Epoch 94/200.\n",
            "Training accuracy: 31.013999938964844. Testing accuracy: 31.760000228881836. Duration: 7.652s.\n",
            "\n",
            "Epoch 95/200.\n",
            "Training accuracy: 32.15800094604492. Testing accuracy: 31.940000534057617. Duration: 7.631s.\n",
            "\n",
            "Epoch 96/200.\n",
            "Training accuracy: 30.93199920654297. Testing accuracy: 31.31999969482422. Duration: 7.602s.\n",
            "\n",
            "Epoch 97/200.\n",
            "Training accuracy: 31.077999114990234. Testing accuracy: 31.209999084472656. Duration: 7.644s.\n",
            "\n",
            "Epoch 98/200.\n",
            "Training accuracy: 31.847999572753906. Testing accuracy: 31.670000076293945. Duration: 7.609s.\n",
            "\n",
            "Epoch 99/200.\n",
            "Training accuracy: 31.3439998626709. Testing accuracy: 31.649999618530273. Duration: 7.689s.\n",
            "\n",
            "Epoch 100/200.\n",
            "Training accuracy: 31.45199966430664. Testing accuracy: 31.479999542236328. Duration: 7.664s.\n",
            "\n",
            "Epoch 101/200.\n",
            "Training accuracy: 30.88800048828125. Testing accuracy: 31.360000610351562. Duration: 7.635s.\n",
            "\n",
            "Epoch 102/200.\n",
            "Training accuracy: 32.358001708984375. Testing accuracy: 32.47999954223633. Duration: 7.624s.\n",
            "\n",
            "Epoch 103/200.\n",
            "Training accuracy: 30.36199951171875. Testing accuracy: 30.790000915527344. Duration: 7.668s.\n",
            "\n",
            "Epoch 104/200.\n"
          ]
        },
        {
          "ename": "KeyboardInterrupt",
          "evalue": "",
          "output_type": "error",
          "traceback": [
            "\u001b[0;31m---------------------------------------------------------------------------\u001b[0m",
            "\u001b[0;31mKeyboardInterrupt\u001b[0m                         Traceback (most recent call last)",
            "\u001b[1;32m/teamspace/studios/this_studio/Coursework_(1).ipynb Cell 22\u001b[0m line \u001b[0;36m2\n\u001b[1;32m     <a href='vscode-notebook-cell://vscode-01hvhqvz937cvegtg7d9xdsw36.studio.lightning.ai/teamspace/studios/this_studio/Coursework_%281%29.ipynb#X24sdnNjb2RlLXJlbW90ZQ%3D%3D?line=16'>17</a>\u001b[0m     l\u001b[39m.\u001b[39mbackward() \u001b[39m# Computes the gradient of the loss `l` with respect to the model parameters\u001b[39;00m\n\u001b[1;32m     <a href='vscode-notebook-cell://vscode-01hvhqvz937cvegtg7d9xdsw36.studio.lightning.ai/teamspace/studios/this_studio/Coursework_%281%29.ipynb#X24sdnNjb2RlLXJlbW90ZQ%3D%3D?line=18'>19</a>\u001b[0m     optimizer\u001b[39m.\u001b[39mstep() \u001b[39m# Updates the model parameters based on the gradients stored inside them\u001b[39;00m\n\u001b[0;32m---> <a href='vscode-notebook-cell://vscode-01hvhqvz937cvegtg7d9xdsw36.studio.lightning.ai/teamspace/studios/this_studio/Coursework_%281%29.ipynb#X24sdnNjb2RlLXJlbW90ZQ%3D%3D?line=20'>21</a>\u001b[0m     losses\u001b[39m.\u001b[39mappend(\u001b[39mfloat\u001b[39;49m(l)) \u001b[39m# Stores the loss for this batch\u001b[39;00m\n\u001b[1;32m     <a href='vscode-notebook-cell://vscode-01hvhqvz937cvegtg7d9xdsw36.studio.lightning.ai/teamspace/studios/this_studio/Coursework_%281%29.ipynb#X24sdnNjb2RlLXJlbW90ZQ%3D%3D?line=22'>23</a>\u001b[0m \u001b[39mwith\u001b[39;00m torch\u001b[39m.\u001b[39mno_grad(): \u001b[39m# Computing performance metrics does not require gradients\u001b[39;00m\n\u001b[1;32m     <a href='vscode-notebook-cell://vscode-01hvhqvz937cvegtg7d9xdsw36.studio.lightning.ai/teamspace/studios/this_studio/Coursework_%281%29.ipynb#X24sdnNjb2RlLXJlbW90ZQ%3D%3D?line=23'>24</a>\u001b[0m     model\u001b[39m.\u001b[39meval() \u001b[39m# This is necessary because batch normalization behaves differently between training and evaluation\u001b[39;00m\n",
            "\u001b[0;31mKeyboardInterrupt\u001b[0m: "
          ]
        }
      ],
      "source": [
        "losses = [] # Stores the loss for each training batch\n",
        "train_accs = [] # Stores the training accuracy after each epoch\n",
        "test_accs = [] # Stores the testing accuracy after each epoch\n",
        "\n",
        "num_epochs = 100\n",
        "for epoch in range(num_epochs):\n",
        "    print(f'\\nEpoch {epoch + 1}/{num_epochs}.')\n",
        "    start_time = time.perf_counter()\n",
        "\n",
        "    model.train() # This is necessary because batch normalization behaves differently between training and evaluation\n",
        "\n",
        "    for X, y in train_iter:\n",
        "        X, y = X.to(device), y.to(device) # Moves data to `device`\n",
        "        logits = model(X) # Computes the logits for the batch of images `X`\n",
        "        l = loss(logits, y) # Computes the loss given the `logits` and the class vector `y`\n",
        "        optimizer.zero_grad() # Zeroes the gradients stored in the model parameters\n",
        "        l.backward() # Computes the gradient of the loss `l` with respect to the model parameters\n",
        "\n",
        "        optimizer.step() # Updates the model parameters based on the gradients stored inside them\n",
        "\n",
        "        losses.append(float(l)) # Stores the loss for this batch\n",
        "\n",
        "    with torch.no_grad(): # Computing performance metrics does not require gradients\n",
        "        model.eval() # This is necessary because batch normalization behaves differently between training and evaluation\n",
        "        train_accs.append(evaluate_metric(model, train_iter, correct))\n",
        "        test_accs.append(evaluate_metric(model, test_iter, correct))\n",
        "\n",
        "        end_time = time.perf_counter()\n",
        "\n",
        "        print(f'Training accuracy: {train_accs[-1]}. Testing accuracy: {test_accs[-1]}. Duration: {end_time - start_time:.3f}s.') # Computes and displays training/testing dataset accuracy.\n",
        "\n",
        "plt.plot(losses) # Plots the loss for each training batch\n",
        "plt.xlabel('Training batch')\n",
        "plt.ylabel('Cross entropy loss')\n",
        "plt.show()\n",
        "\n",
        "plt.plot(list(map(lambda x: x.cpu(),train_accs)), label='Training accuracy')\n",
        "plt.plot(list(map(lambda x: x.cpu(),test_accs)), label='Testing accuracy')\n",
        "plt.legend(loc='best')\n",
        "plt.xlabel('Epoch')\n",
        "plt.show()"
      ]
    },
    {
      "cell_type": "code",
      "execution_count": null,
      "id": "3d747a40-81b1-4891-b350-aa7ffb5ce5e4",
      "metadata": {
        "id": "3d747a40-81b1-4891-b350-aa7ffb5ce5e4",
        "outputId": "d680131e-896a-49f5-ea65-2438744f3433"
      },
      "outputs": [
        {
          "ename": "AttributeError",
          "evalue": "'list' object has no attribute 'cpu'",
          "output_type": "error",
          "traceback": [
            "\u001b[0;31m---------------------------------------------------------------------------\u001b[0m",
            "\u001b[0;31mAttributeError\u001b[0m                            Traceback (most recent call last)",
            "Cell \u001b[0;32mIn[48], line 1\u001b[0m\n\u001b[0;32m----> 1\u001b[0m plt\u001b[38;5;241m.\u001b[39mplot(\u001b[43mtrain_accs\u001b[49m\u001b[38;5;241;43m.\u001b[39;49m\u001b[43mcpu\u001b[49m(), label\u001b[38;5;241m=\u001b[39m\u001b[38;5;124m'\u001b[39m\u001b[38;5;124mTraining accuracy\u001b[39m\u001b[38;5;124m'\u001b[39m)\n\u001b[1;32m      2\u001b[0m plt\u001b[38;5;241m.\u001b[39mplot(test_accs\u001b[38;5;241m.\u001b[39mcpu(), label\u001b[38;5;241m=\u001b[39m\u001b[38;5;124m'\u001b[39m\u001b[38;5;124mTesting accuracy\u001b[39m\u001b[38;5;124m'\u001b[39m)\n\u001b[1;32m      3\u001b[0m plt\u001b[38;5;241m.\u001b[39mlegend(loc\u001b[38;5;241m=\u001b[39m\u001b[38;5;124m'\u001b[39m\u001b[38;5;124mbest\u001b[39m\u001b[38;5;124m'\u001b[39m)\n",
            "\u001b[0;31mAttributeError\u001b[0m: 'list' object has no attribute 'cpu'"
          ]
        }
      ],
      "source": [
        " plt.plot(train_accs.cpu(), label='Training accuracy')\n",
        "plt.plot(test_accs.cpu(), label='Testing accuracy')\n",
        "plt.legend(loc='best')\n",
        "plt.xlabel('Epoch')\n",
        "plt.show()"
      ]
    },
    {
      "cell_type": "code",
      "execution_count": null,
      "id": "7e6f4cfc-8310-4fd1-b575-bb647d325b95",
      "metadata": {
        "id": "7e6f4cfc-8310-4fd1-b575-bb647d325b95",
        "outputId": "fdf3615f-0512-4e38-ae89-9fc19a298eae"
      },
      "outputs": [
        {
          "data": {
            "text/plain": [
              "[<matplotlib.lines.Line2D at 0x7f4233d7e4d0>]"
            ]
          },
          "execution_count": 54,
          "metadata": {},
          "output_type": "execute_result"
        },
        {
          "data": {
            "image/png": "[encoded data removed]",
            "text/plain": [
              "<Figure size 640x480 with 1 Axes>"
            ]
          },
          "metadata": {},
          "output_type": "display_data"
        }
      ],
      "source": [
        "v = list(map(lambda x: x.cpu(),train_accs))\n",
        "plt.plot(v, label='Training accuracy')"
      ]
    },
    {
      "cell_type": "code",
      "execution_count": null,
      "id": "8475c1f1-fdd3-4bc0-a1c8-645a1e439367",
      "metadata": {
        "id": "8475c1f1-fdd3-4bc0-a1c8-645a1e439367"
      },
      "outputs": [],
      "source": []
    }
  ],
  "metadata": {
    "colab": {
      "provenance": []
    },
    "kernelspec": {
      "display_name": "Python 3 (ipykernel)",
      "language": "python",
      "name": "python3"
    },
    "language_info": {
      "codemirror_mode": {
        "name": "ipython",
        "version": 3
      },
      "file_extension": ".py",
      "mimetype": "text/x-python",
      "name": "python",
      "nbconvert_exporter": "python",
      "pygments_lexer": "ipython3",
      "version": "3.10.10"
    }
  },
  "nbformat": 4,
  "nbformat_minor": 5
}
