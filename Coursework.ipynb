{
  "cells": [
    {
      "cell_type": "code",
      "execution_count": 1,
      "id": "fd4fca06-f3df-4d3d-8465-c493f7879612",
      "metadata": {
        "colab": {
          "base_uri": "https://localhost:8080/"
        },
        "id": "fd4fca06-f3df-4d3d-8465-c493f7879612",
        "outputId": "ecc2e54f-1d8e-441b-dcf7-e51fa8cf942e"
      },
      "outputs": [
        {
          "name": "stdout",
          "output_type": "stream",
          "text": [
            "Using cuda.\n"
          ]
        }
      ],
      "source": [
        "import torch\n",
        "device = torch.device('cuda' if torch.cuda.is_available() else 'cpu')\n",
        "print(f'Using {device}.')"
      ]
    },
    {
      "cell_type": "code",
      "execution_count": 2,
      "id": "85307fef-752a-4a8b-86d4-fb6f5d2f3e25",
      "metadata": {
        "id": "85307fef-752a-4a8b-86d4-fb6f5d2f3e25"
      },
      "outputs": [],
      "source": [
        "%matplotlib inline\n",
        "import matplotlib.pyplot as plt\n",
        "import torch\n",
        "import torchvision\n",
        "import torch.nn as nn\n",
        "import time"
      ]
    },
    {
      "cell_type": "markdown",
      "id": "2b3f2a69",
      "metadata": {},
      "source": [
        "# Data Loading and pre-processing"
      ]
    },
    {
      "cell_type": "code",
      "execution_count": 3,
      "id": "22cd635c-7e1e-453a-8324-c2cf1c1812da",
      "metadata": {
        "id": "22cd635c-7e1e-453a-8324-c2cf1c1812da"
      },
      "outputs": [],
      "source": [
        "# You don't need to understand this function for now.\n",
        "def load_data_CIFAR10(batch_size, resize=None):\n",
        "    \"\"\"Download the CIFAR10 dataset and then load it into memory.\"\"\"\n",
        "    train_trans = [\n",
        "        torchvision.transforms.RandomHorizontalFlip(p=0.5),\n",
        "        torchvision.transforms.RandomCrop(32, padding=4),\n",
        "        torchvision.transforms.RandomRotation(degrees=4),\n",
        "        torchvision.transforms.ToTensor(),\n",
        "        torchvision.transforms.Normalize(mean=[0.485, 0.456, 0.406],\n",
        "            std=[0.229, 0.224, 0.225])\n",
        "        ]\n",
        "    if resize:\n",
        "        trans.insert(0, torchvision.transforms.Resize(resize))\n",
        "    train_trans = torchvision.transforms.Compose(train_trans)\n",
        "    # the values for mean and std are based on ImageNet common choice\n",
        "    test_trans = [\n",
        "        torchvision.transforms.ToTensor(),\n",
        "        torchvision.transforms.Normalize(mean=[0.485, 0.456, 0.406],\n",
        "            std=[0.229, 0.224, 0.225])\n",
        "    ]\n",
        "    test_trans = torchvision.transforms.Compose(test_trans)\n",
        "    mnist_train = torchvision.datasets.CIFAR10(\n",
        "        root=\"./data\", train=True, transform=train_trans, download=True)\n",
        "    mnist_test = torchvision.datasets.CIFAR10(\n",
        "        root=\"./data\", train=False, transform=test_trans, download=True)\n",
        "    return (torch.utils.data.DataLoader(mnist_train, batch_size, shuffle=True,\n",
        "                            num_workers=2),\n",
        "            torch.utils.data.DataLoader(mnist_test, batch_size, shuffle=False,\n",
        "                            num_workers=2))"
      ]
    },
    {
      "cell_type": "code",
      "execution_count": 4,
      "id": "f86b1a98-2bd4-4d28-8aa9-b4e8536adb9c",
      "metadata": {
        "colab": {
          "base_uri": "https://localhost:8080/"
        },
        "id": "f86b1a98-2bd4-4d28-8aa9-b4e8536adb9c",
        "outputId": "1be0d880-cb3b-4733-d0d4-4dd489dfbcdd"
      },
      "outputs": [
        {
          "name": "stdout",
          "output_type": "stream",
          "text": [
            "Downloading https://www.cs.toronto.edu/~kriz/cifar-10-python.tar.gz to ./data/cifar-10-python.tar.gz\n"
          ]
        },
        {
          "name": "stderr",
          "output_type": "stream",
          "text": [
            "  0%|          | 0/170498071 [00:00<?, ?it/s]"
          ]
        },
        {
          "name": "stderr",
          "output_type": "stream",
          "text": [
            "100%|██████████| 170498071/170498071 [00:01<00:00, 96144560.49it/s] \n"
          ]
        },
        {
          "name": "stdout",
          "output_type": "stream",
          "text": [
            "Extracting ./data/cifar-10-python.tar.gz to ./data\n",
            "Files already downloaded and verified\n"
          ]
        }
      ],
      "source": [
        "batch_size = 128 # Defines the batch size\n",
        "train_iter, test_iter = load_data_CIFAR10(batch_size)"
      ]
    },
    {
      "cell_type": "code",
      "execution_count": 5,
      "id": "0ecba6e7-eb01-4ee4-93c4-9ec60f808e52",
      "metadata": {
        "colab": {
          "base_uri": "https://localhost:8080/"
        },
        "id": "0ecba6e7-eb01-4ee4-93c4-9ec60f808e52",
        "outputId": "8e73182f-10de-4f8d-b6ef-bf876ffa0ece"
      },
      "outputs": [
        {
          "name": "stdout",
          "output_type": "stream",
          "text": [
            "torch.Size([128, 3, 32, 32])\n",
            "torch.Size([128])\n"
          ]
        }
      ],
      "source": [
        "X, y = next(iter(train_iter)) # Requests the first training batch\n",
        "print(X.size()) # 256 images per batch. Each image is represented by a 1 x 28 x 28 tensor (number of channels x height x width). The images are grayscale, so there is a single channel.\n",
        "print(y.size())"
      ]
    },
    {
      "cell_type": "markdown",
      "id": "2a0f4afa-cb66-47cc-83ea-31a3467ce3b8",
      "metadata": {
        "id": "2a0f4afa-cb66-47cc-83ea-31a3467ce3b8"
      },
      "source": [
        "## Intermediate Block Generator\n",
        "\n",
        "for creating each intermediate block a class has been definied. This class get the number of convolutional layers, and its layers and parameters."
      ]
    },
    {
      "cell_type": "code",
      "execution_count": 6,
      "id": "cf1cff80",
      "metadata": {},
      "outputs": [],
      "source": [
        "class BlockGen(nn.Module):\n",
        "    # Creating Intermediate Blocks\n",
        "    # the length of param indicates the number of intermediate blocks\n",
        "    # each parameter is then inside the param for convolutional layers\n",
        "    def __init__(self, in_channels, out_channels, kernels, c):\n",
        "        super(BlockGen, self).__init__()\n",
        "        self.relu = nn.ReLU()\n",
        "        convs = nn.ModuleList()\n",
        "        for i in range(c):\n",
        "            \n",
        "            convs.append(nn.Conv2d(in_channels, out_channels, kernel_size=kernels[i], padding= 'same'))\n",
        "\n",
        "        self.model = convs\n",
        "        # the fully-connected layer turning m to a to calculate the weights of convolutional layer in the final equation the output should be the same value as the number of concolutional layers\n",
        "        self.fc = nn.Linear(in_channels, c)\n",
        "        self.batchnorm2d = nn.BatchNorm2d(out_channels)\n",
        "        self.dropout = nn.Dropout(0.2)\n",
        "\n",
        "    def forward(self, x):\n",
        "        m = torch.mean(torch.flatten(x, 2), dim=2)\n",
        "        a = self.fc(m)\n",
        "        \n",
        "        model = self.model\n",
        "        out_list = []\n",
        "        for i, mod in enumerate(model):\n",
        "            weight = a[:, i].unsqueeze(1).unsqueeze(2).unsqueeze(3)\n",
        "            out = mod(x)\n",
        "            out_list.append(weight * self.relu(out))\n",
        "\n",
        "        output = torch.sum(torch.stack(out_list), dim=0)\n",
        "        return self.batchnorm2d(output)\n"
      ]
    },
    {
      "cell_type": "markdown",
      "id": "83ccf04a",
      "metadata": {},
      "source": [
        "# Final Model with the output block"
      ]
    },
    {
      "cell_type": "code",
      "execution_count": 7,
      "id": "406ed366-1730-4f9f-a495-32f60fbb0d3b",
      "metadata": {
        "id": "406ed366-1730-4f9f-a495-32f60fbb0d3b"
      },
      "outputs": [],
      "source": [
        "class FinalModel(nn.Module):\n",
        "    # Creating Intermediate Blocks\n",
        "    # the length of param indicates the number of intermediate blocks\n",
        "    # each parameter is then inside the param for convolutional layers\n",
        "    def __init__(self, num_block, c, in_channels, out_channels, kernels):\n",
        "        super(FinalModel, self).__init__()\n",
        "        blocks = nn.Sequential()\n",
        "        for i in range(num_block):\n",
        "            blocks.append(BlockGen(in_channels=in_channels[i], out_channels=out_channels[i], kernels=kernels, c=c[i]))\n",
        "            \n",
        "        self.blocks = blocks\n",
        "        self.fc2 = nn.Linear(out_channels[-1], 10)\n",
        "\n",
        "    def forward(self, x):\n",
        "        # creating the convolutional neurons in the layer of the block\n",
        "        \n",
        "        for model in self.blocks:\n",
        "            x = model(x)\n",
        "\n",
        "        channel_avg = torch.mean(torch.flatten(x, 2), dim=2)\n",
        "        out = self.fc2(channel_avg)\n",
        "\n",
        "        return out"
      ]
    },
    {
      "cell_type": "markdown",
      "id": "22134dca-2b56-4a68-9171-7d4a1e30bd03",
      "metadata": {
        "id": "22134dca-2b56-4a68-9171-7d4a1e30bd03"
      },
      "source": [
        "## Defining parameters"
      ]
    },
    {
      "cell_type": "code",
      "execution_count": 8,
      "id": "bs0zav4E5KyE",
      "metadata": {
        "id": "bs0zav4E5KyE"
      },
      "outputs": [],
      "source": [
        "num_blocks = 4\n",
        "c = [3,3,3,3]\n",
        "kernels = [1,3,5]\n",
        "in_channels = [3,16,32,64]\n",
        "out_channels = [16,32,64,128]"
      ]
    },
    {
      "cell_type": "code",
      "execution_count": 9,
      "id": "8cb6ae26-f43d-424b-915b-f421766d7619",
      "metadata": {
        "colab": {
          "base_uri": "https://localhost:8080/"
        },
        "id": "8cb6ae26-f43d-424b-915b-f421766d7619",
        "outputId": "506a131f-5f96-4e85-f884-9106dd1750e9"
      },
      "outputs": [
        {
          "data": {
            "text/plain": [
              "FinalModel(\n",
              "  (blocks): Sequential(\n",
              "    (0): BlockGen(\n",
              "      (relu): ReLU()\n",
              "      (model): ModuleList(\n",
              "        (0): Conv2d(3, 16, kernel_size=(1, 1), stride=(1, 1), padding=same)\n",
              "        (1): Conv2d(3, 16, kernel_size=(3, 3), stride=(1, 1), padding=same)\n",
              "        (2): Conv2d(3, 16, kernel_size=(5, 5), stride=(1, 1), padding=same)\n",
              "      )\n",
              "      (fc): Linear(in_features=3, out_features=3, bias=True)\n",
              "      (batchnorm2d): BatchNorm2d(16, eps=1e-05, momentum=0.1, affine=True, track_running_stats=True)\n",
              "      (dropout): Dropout(p=0.2, inplace=False)\n",
              "    )\n",
              "    (1): BlockGen(\n",
              "      (relu): ReLU()\n",
              "      (model): ModuleList(\n",
              "        (0): Conv2d(16, 32, kernel_size=(1, 1), stride=(1, 1), padding=same)\n",
              "        (1): Conv2d(16, 32, kernel_size=(3, 3), stride=(1, 1), padding=same)\n",
              "        (2): Conv2d(16, 32, kernel_size=(5, 5), stride=(1, 1), padding=same)\n",
              "      )\n",
              "      (fc): Linear(in_features=16, out_features=3, bias=True)\n",
              "      (batchnorm2d): BatchNorm2d(32, eps=1e-05, momentum=0.1, affine=True, track_running_stats=True)\n",
              "      (dropout): Dropout(p=0.2, inplace=False)\n",
              "    )\n",
              "    (2): BlockGen(\n",
              "      (relu): ReLU()\n",
              "      (model): ModuleList(\n",
              "        (0): Conv2d(32, 64, kernel_size=(1, 1), stride=(1, 1), padding=same)\n",
              "        (1): Conv2d(32, 64, kernel_size=(3, 3), stride=(1, 1), padding=same)\n",
              "        (2): Conv2d(32, 64, kernel_size=(5, 5), stride=(1, 1), padding=same)\n",
              "      )\n",
              "      (fc): Linear(in_features=32, out_features=3, bias=True)\n",
              "      (batchnorm2d): BatchNorm2d(64, eps=1e-05, momentum=0.1, affine=True, track_running_stats=True)\n",
              "      (dropout): Dropout(p=0.2, inplace=False)\n",
              "    )\n",
              "    (3): BlockGen(\n",
              "      (relu): ReLU()\n",
              "      (model): ModuleList(\n",
              "        (0): Conv2d(64, 128, kernel_size=(1, 1), stride=(1, 1), padding=same)\n",
              "        (1): Conv2d(64, 128, kernel_size=(3, 3), stride=(1, 1), padding=same)\n",
              "        (2): Conv2d(64, 128, kernel_size=(5, 5), stride=(1, 1), padding=same)\n",
              "      )\n",
              "      (fc): Linear(in_features=64, out_features=3, bias=True)\n",
              "      (batchnorm2d): BatchNorm2d(128, eps=1e-05, momentum=0.1, affine=True, track_running_stats=True)\n",
              "      (dropout): Dropout(p=0.2, inplace=False)\n",
              "    )\n",
              "  )\n",
              "  (fc2): Linear(in_features=128, out_features=10, bias=True)\n",
              ")"
            ]
          },
          "execution_count": 9,
          "metadata": {},
          "output_type": "execute_result"
        }
      ],
      "source": [
        "# Applies Xavier initialization if the `torch.nn.Module` is `torch.nn.Linear` or `torch.nn.Conv2d`\n",
        "def init_weights(m):\n",
        "    if type(m) == torch.nn.Linear or type(m) == torch.nn.Conv2d:\n",
        "        torch.nn.init.xavier_uniform_(m.weight)\n",
        "\n",
        "# num_outputs = 10\n",
        "model = FinalModel(num_block=num_blocks, c = c, in_channels=in_channels, out_channels=out_channels, kernels= kernels).to(device)\n",
        "model.apply(init_weights) # Applies `init_weights` to every `torch.nn.Module` inside `model`"
      ]
    },
    {
      "cell_type": "code",
      "execution_count": 10,
      "id": "62987da8-567b-4690-8e9c-2d0a05481ce1",
      "metadata": {
        "id": "62987da8-567b-4690-8e9c-2d0a05481ce1"
      },
      "outputs": [],
      "source": [
        "loss = torch.nn.CrossEntropyLoss()"
      ]
    },
    {
      "cell_type": "code",
      "execution_count": 11,
      "id": "6a8fb2b4-1828-4960-81a1-49c84469adbb",
      "metadata": {
        "id": "6a8fb2b4-1828-4960-81a1-49c84469adbb"
      },
      "outputs": [],
      "source": [
        "lr = 0.004\n",
        "optimizer = torch.optim.Adam(model.parameters(), lr=lr)"
      ]
    },
    {
      "cell_type": "code",
      "execution_count": 12,
      "id": "27f79f66-bf58-4a62-912a-b4b0931a9a70",
      "metadata": {
        "id": "27f79f66-bf58-4a62-912a-b4b0931a9a70"
      },
      "outputs": [],
      "source": [
        "def correct(logits, y):\n",
        "    y_hat = logits.argmax(axis=1) # Finds the column with the highest value for each row of `logits`.\n",
        "    return (y_hat == y).float().sum() # Computes the number of times that `y_hat` and `y` match."
      ]
    },
    {
      "cell_type": "code",
      "execution_count": 13,
      "id": "440558aa-4038-48a2-9668-ea8b5a882e6e",
      "metadata": {
        "id": "440558aa-4038-48a2-9668-ea8b5a882e6e"
      },
      "outputs": [],
      "source": [
        "def evaluate_metric(model, data_iter, metric):\n",
        "    \"\"\"Compute the average `metric` of the model on a dataset.\"\"\"\n",
        "    c = torch.tensor(0.).to(device)\n",
        "    n = torch.tensor(0.).to(device)\n",
        "    j = 0\n",
        "    for X, y in data_iter:\n",
        "        X, y = X.to(device), y.to(device) # Moves data to `device`\n",
        "        logits = model(X)\n",
        "        c += metric(logits, y)\n",
        "        n += len(y)\n",
        "    return c*100 / n"
      ]
    },
    {
      "cell_type": "code",
      "execution_count": 14,
      "id": "6698f82c-1c72-4e07-9305-e07e0c612058",
      "metadata": {
        "colab": {
          "base_uri": "https://localhost:8080/",
          "height": 371
        },
        "id": "6698f82c-1c72-4e07-9305-e07e0c612058",
        "outputId": "962da832-d664-4e1b-daab-23deb8497807"
      },
      "outputs": [
        {
          "name": "stdout",
          "output_type": "stream",
          "text": [
            "Training accuracy: 10.194000244140625. Testing accuracy: 10.020000457763672.\n"
          ]
        }
      ],
      "source": [
        "model.eval()\n",
        "print(f'Training accuracy: {evaluate_metric(model, train_iter, correct)}. Testing accuracy: {evaluate_metric(model, test_iter, correct)}.')"
      ]
    },
    {
      "cell_type": "markdown",
      "id": "6c7b1a07-3d66-4feb-a942-24ff75bf12b2",
      "metadata": {
        "id": "6c7b1a07-3d66-4feb-a942-24ff75bf12b2"
      },
      "source": [
        "## Training"
      ]
    },
    {
      "cell_type": "code",
      "execution_count": 15,
      "id": "6d1d9280-c122-4640-9b38-49e889393cbd",
      "metadata": {
        "colab": {
          "base_uri": "https://localhost:8080/"
        },
        "id": "6d1d9280-c122-4640-9b38-49e889393cbd",
        "outputId": "7e6a200f-5afb-49e6-fd1c-6662fb8ed1cc"
      },
      "outputs": [
        {
          "name": "stdout",
          "output_type": "stream",
          "text": [
            "\n",
            "Epoch 1/100.\n",
            "Training accuracy: 31.809999465942383. Testing accuracy: 27.229999542236328. Duration: 25.674s.\n",
            "\n",
            "Epoch 2/100.\n",
            "Training accuracy: 39.71799850463867. Testing accuracy: 38.16999816894531. Duration: 25.615s.\n",
            "\n",
            "Epoch 3/100.\n",
            "Training accuracy: 50.36800003051758. Testing accuracy: 48.70000076293945. Duration: 25.543s.\n",
            "\n",
            "Epoch 4/100.\n",
            "Training accuracy: 58.24599838256836. Testing accuracy: 56.45000076293945. Duration: 25.428s.\n",
            "\n",
            "Epoch 5/100.\n",
            "Training accuracy: 64.86399841308594. Testing accuracy: 63.279998779296875. Duration: 25.567s.\n",
            "\n",
            "Epoch 6/100.\n",
            "Training accuracy: 66.34400177001953. Testing accuracy: 65.51000213623047. Duration: 25.555s.\n",
            "\n",
            "Epoch 7/100.\n",
            "Training accuracy: 70.59400177001953. Testing accuracy: 68.12000274658203. Duration: 25.478s.\n",
            "\n",
            "Epoch 8/100.\n",
            "Training accuracy: 72.9520034790039. Testing accuracy: 71.26000213623047. Duration: 25.544s.\n",
            "\n",
            "Epoch 9/100.\n",
            "Training accuracy: 72.70999908447266. Testing accuracy: 70.44999694824219. Duration: 25.543s.\n",
            "\n",
            "Epoch 10/100.\n",
            "Training accuracy: 76.13800048828125. Testing accuracy: 75.04000091552734. Duration: 25.554s.\n",
            "\n",
            "Epoch 11/100.\n",
            "Training accuracy: 79.41200256347656. Testing accuracy: 77.44000244140625. Duration: 25.516s.\n",
            "\n",
            "Epoch 12/100.\n",
            "Training accuracy: 81.04199981689453. Testing accuracy: 78.83999633789062. Duration: 25.424s.\n",
            "\n",
            "Epoch 13/100.\n",
            "Training accuracy: 80.78800201416016. Testing accuracy: 78.83999633789062. Duration: 25.412s.\n",
            "\n",
            "Epoch 14/100.\n",
            "Training accuracy: 79.33999633789062. Testing accuracy: 76.47000122070312. Duration: 25.477s.\n",
            "\n",
            "Epoch 15/100.\n",
            "Training accuracy: 83.15599822998047. Testing accuracy: 80.18000030517578. Duration: 25.566s.\n",
            "\n",
            "Epoch 16/100.\n",
            "Training accuracy: 84.15599822998047. Testing accuracy: 81.31999969482422. Duration: 25.508s.\n",
            "\n",
            "Epoch 17/100.\n",
            "Training accuracy: 84.68599700927734. Testing accuracy: 81.12000274658203. Duration: 25.521s.\n",
            "\n",
            "Epoch 18/100.\n",
            "Training accuracy: 85.7300033569336. Testing accuracy: 81.58999633789062. Duration: 25.519s.\n",
            "\n",
            "Epoch 19/100.\n",
            "Training accuracy: 85.59200286865234. Testing accuracy: 81.9000015258789. Duration: 25.398s.\n",
            "\n",
            "Epoch 20/100.\n",
            "Training accuracy: 86.72000122070312. Testing accuracy: 82.47000122070312. Duration: 25.392s.\n",
            "\n",
            "Epoch 21/100.\n",
            "Training accuracy: 86.42400360107422. Testing accuracy: 82.37999725341797. Duration: 25.528s.\n",
            "\n",
            "Epoch 22/100.\n",
            "Training accuracy: 87.2020034790039. Testing accuracy: 82.18000030517578. Duration: 25.429s.\n",
            "\n",
            "Epoch 23/100.\n",
            "Training accuracy: 86.91600036621094. Testing accuracy: 82.20999908447266. Duration: 25.384s.\n",
            "\n",
            "Epoch 24/100.\n",
            "Training accuracy: 88.3239974975586. Testing accuracy: 83.83999633789062. Duration: 25.579s.\n",
            "\n",
            "Epoch 25/100.\n",
            "Training accuracy: 88.95999908447266. Testing accuracy: 83.7300033569336. Duration: 25.629s.\n",
            "\n",
            "Epoch 26/100.\n",
            "Training accuracy: 88.58399963378906. Testing accuracy: 83.5. Duration: 25.478s.\n",
            "\n",
            "Epoch 27/100.\n",
            "Training accuracy: 89.19599914550781. Testing accuracy: 82.94000244140625. Duration: 25.390s.\n",
            "\n",
            "Epoch 28/100.\n",
            "Training accuracy: 89.69400024414062. Testing accuracy: 83.94000244140625. Duration: 25.562s.\n",
            "\n",
            "Epoch 29/100.\n",
            "Training accuracy: 88.96199798583984. Testing accuracy: 82.66999816894531. Duration: 25.490s.\n",
            "\n",
            "Epoch 30/100.\n",
            "Training accuracy: 89.7979965209961. Testing accuracy: 84.12999725341797. Duration: 25.532s.\n",
            "\n",
            "Epoch 31/100.\n",
            "Training accuracy: 90.33399963378906. Testing accuracy: 84.12000274658203. Duration: 25.457s.\n",
            "\n",
            "Epoch 32/100.\n",
            "Training accuracy: 90.4280014038086. Testing accuracy: 84.1500015258789. Duration: 25.505s.\n",
            "\n",
            "Epoch 33/100.\n",
            "Training accuracy: 90.93800354003906. Testing accuracy: 84.5199966430664. Duration: 25.444s.\n",
            "\n",
            "Epoch 34/100.\n",
            "Training accuracy: 91.15799713134766. Testing accuracy: 84.69000244140625. Duration: 25.488s.\n",
            "\n",
            "Epoch 35/100.\n",
            "Training accuracy: 91.50800323486328. Testing accuracy: 84.56999969482422. Duration: 25.441s.\n",
            "\n",
            "Epoch 36/100.\n",
            "Training accuracy: 91.5. Testing accuracy: 84.11000061035156. Duration: 25.548s.\n",
            "\n",
            "Epoch 37/100.\n",
            "Training accuracy: 92.25. Testing accuracy: 84.47000122070312. Duration: 25.441s.\n",
            "\n",
            "Epoch 38/100.\n",
            "Training accuracy: 92.06400299072266. Testing accuracy: 84.20999908447266. Duration: 25.512s.\n",
            "\n",
            "Epoch 39/100.\n",
            "Training accuracy: 92.25800323486328. Testing accuracy: 84.43000030517578. Duration: 25.670s.\n",
            "\n",
            "Epoch 40/100.\n",
            "Training accuracy: 92.45800018310547. Testing accuracy: 83.8499984741211. Duration: 25.451s.\n",
            "\n",
            "Epoch 41/100.\n",
            "Training accuracy: 93.04000091552734. Testing accuracy: 85.0999984741211. Duration: 25.539s.\n",
            "\n",
            "Epoch 42/100.\n",
            "Training accuracy: 92.33200073242188. Testing accuracy: 83.91999816894531. Duration: 25.543s.\n",
            "\n",
            "Epoch 43/100.\n",
            "Training accuracy: 93.08399963378906. Testing accuracy: 84.62999725341797. Duration: 25.576s.\n",
            "\n",
            "Epoch 44/100.\n",
            "Training accuracy: 93.01399993896484. Testing accuracy: 84.5199966430664. Duration: 25.392s.\n",
            "\n",
            "Epoch 45/100.\n",
            "Training accuracy: 93.53800201416016. Testing accuracy: 85.01000213623047. Duration: 25.443s.\n",
            "\n",
            "Epoch 46/100.\n",
            "Training accuracy: 93.52200317382812. Testing accuracy: 85.11000061035156. Duration: 25.625s.\n",
            "\n",
            "Epoch 47/100.\n",
            "Training accuracy: 93.09200286865234. Testing accuracy: 83.81999969482422. Duration: 25.468s.\n",
            "\n",
            "Epoch 48/100.\n",
            "Training accuracy: 93.3239974975586. Testing accuracy: 84.54000091552734. Duration: 25.466s.\n",
            "\n",
            "Epoch 49/100.\n",
            "Training accuracy: 93.5739974975586. Testing accuracy: 84.26000213623047. Duration: 25.546s.\n",
            "\n",
            "Epoch 50/100.\n",
            "Training accuracy: 93.68800354003906. Testing accuracy: 84.33000183105469. Duration: 25.561s.\n",
            "\n",
            "Epoch 51/100.\n",
            "Training accuracy: 94.44400024414062. Testing accuracy: 84.94999694824219. Duration: 25.486s.\n",
            "\n",
            "Epoch 52/100.\n",
            "Training accuracy: 94.25599670410156. Testing accuracy: 84.7300033569336. Duration: 25.439s.\n",
            "\n",
            "Epoch 53/100.\n",
            "Training accuracy: 94.02400207519531. Testing accuracy: 85.02999877929688. Duration: 25.561s.\n",
            "\n",
            "Epoch 54/100.\n",
            "Training accuracy: 94.02999877929688. Testing accuracy: 84.69999694824219. Duration: 25.551s.\n",
            "\n",
            "Epoch 55/100.\n",
            "Training accuracy: 94.33599853515625. Testing accuracy: 84.51000213623047. Duration: 25.595s.\n",
            "\n",
            "Epoch 56/100.\n",
            "Training accuracy: 95.13200378417969. Testing accuracy: 84.83999633789062. Duration: 25.471s.\n",
            "\n",
            "Epoch 57/100.\n",
            "Training accuracy: 95.14199829101562. Testing accuracy: 85.23999786376953. Duration: 25.546s.\n",
            "\n",
            "Epoch 58/100.\n",
            "Training accuracy: 95.28600311279297. Testing accuracy: 84.83999633789062. Duration: 25.521s.\n",
            "\n",
            "Epoch 59/100.\n",
            "Training accuracy: 93.9000015258789. Testing accuracy: 83.87999725341797. Duration: 25.454s.\n",
            "\n",
            "Epoch 60/100.\n",
            "Training accuracy: 95.27200317382812. Testing accuracy: 85.62000274658203. Duration: 25.431s.\n",
            "\n",
            "Epoch 61/100.\n",
            "Training accuracy: 95.36199951171875. Testing accuracy: 84.93000030517578. Duration: 25.577s.\n",
            "\n",
            "Epoch 62/100.\n",
            "Training accuracy: 95.66200256347656. Testing accuracy: 84.98999786376953. Duration: 25.545s.\n",
            "\n",
            "Epoch 63/100.\n",
            "Training accuracy: 95.64800262451172. Testing accuracy: 84.69999694824219. Duration: 25.434s.\n",
            "\n",
            "Epoch 64/100.\n",
            "Training accuracy: 95.66799926757812. Testing accuracy: 84.87999725341797. Duration: 25.595s.\n",
            "\n",
            "Epoch 65/100.\n",
            "Training accuracy: 95.11599731445312. Testing accuracy: 84.58000183105469. Duration: 25.563s.\n",
            "\n",
            "Epoch 66/100.\n",
            "Training accuracy: 95.68000030517578. Testing accuracy: 84.73999786376953. Duration: 25.470s.\n",
            "\n",
            "Epoch 67/100.\n",
            "Training accuracy: 95.41000366210938. Testing accuracy: 84.94999694824219. Duration: 25.481s.\n",
            "\n",
            "Epoch 68/100.\n",
            "Training accuracy: 95.9800033569336. Testing accuracy: 84.91999816894531. Duration: 25.488s.\n",
            "\n",
            "Epoch 69/100.\n",
            "Training accuracy: 96.08999633789062. Testing accuracy: 85.22000122070312. Duration: 25.517s.\n",
            "\n",
            "Epoch 70/100.\n",
            "Training accuracy: 95.52999877929688. Testing accuracy: 84.5999984741211. Duration: 25.488s.\n",
            "\n",
            "Epoch 71/100.\n",
            "Training accuracy: 96.01200103759766. Testing accuracy: 85.44000244140625. Duration: 25.404s.\n",
            "\n",
            "Epoch 72/100.\n",
            "Training accuracy: 96.197998046875. Testing accuracy: 84.68000030517578. Duration: 25.490s.\n",
            "\n",
            "Epoch 73/100.\n",
            "Training accuracy: 96.052001953125. Testing accuracy: 84.9800033569336. Duration: 25.469s.\n",
            "\n",
            "Epoch 74/100.\n",
            "Training accuracy: 96.14199829101562. Testing accuracy: 85.16000366210938. Duration: 25.500s.\n",
            "\n",
            "Epoch 75/100.\n",
            "Training accuracy: 95.99600219726562. Testing accuracy: 85.02999877929688. Duration: 25.488s.\n",
            "\n",
            "Epoch 76/100.\n",
            "Training accuracy: 96.2300033569336. Testing accuracy: 84.8499984741211. Duration: 25.444s.\n",
            "\n",
            "Epoch 77/100.\n",
            "Training accuracy: 95.8239974975586. Testing accuracy: 85.04000091552734. Duration: 25.553s.\n",
            "\n",
            "Epoch 78/100.\n",
            "Training accuracy: 96.20999908447266. Testing accuracy: 85.04000091552734. Duration: 25.560s.\n",
            "\n",
            "Epoch 79/100.\n",
            "Training accuracy: 96.45600128173828. Testing accuracy: 85.08000183105469. Duration: 25.557s.\n",
            "\n",
            "Epoch 80/100.\n",
            "Training accuracy: 96.94999694824219. Testing accuracy: 85.77999877929688. Duration: 25.559s.\n",
            "\n",
            "Epoch 81/100.\n",
            "Training accuracy: 96.30799865722656. Testing accuracy: 85.2699966430664. Duration: 25.472s.\n",
            "\n",
            "Epoch 82/100.\n",
            "Training accuracy: 96.447998046875. Testing accuracy: 85.02999877929688. Duration: 25.458s.\n",
            "\n",
            "Epoch 83/100.\n",
            "Training accuracy: 96.51200103759766. Testing accuracy: 84.62000274658203. Duration: 25.475s.\n",
            "\n",
            "Epoch 84/100.\n",
            "Training accuracy: 96.49600219726562. Testing accuracy: 85.7300033569336. Duration: 25.430s.\n",
            "\n",
            "Epoch 85/100.\n",
            "Training accuracy: 96.73400115966797. Testing accuracy: 84.91000366210938. Duration: 25.495s.\n",
            "\n",
            "Epoch 86/100.\n",
            "Training accuracy: 96.91000366210938. Testing accuracy: 85.5199966430664. Duration: 25.555s.\n",
            "\n",
            "Epoch 87/100.\n",
            "Training accuracy: 96.2239990234375. Testing accuracy: 84.5999984741211. Duration: 25.420s.\n",
            "\n",
            "Epoch 88/100.\n",
            "Training accuracy: 96.62000274658203. Testing accuracy: 84.88999938964844. Duration: 25.502s.\n",
            "\n",
            "Epoch 89/100.\n",
            "Training accuracy: 96.39800262451172. Testing accuracy: 85.37999725341797. Duration: 25.503s.\n",
            "\n",
            "Epoch 90/100.\n",
            "Training accuracy: 96.49600219726562. Testing accuracy: 84.86000061035156. Duration: 25.394s.\n",
            "\n",
            "Epoch 91/100.\n",
            "Training accuracy: 96.77200317382812. Testing accuracy: 85.08000183105469. Duration: 25.528s.\n",
            "\n",
            "Epoch 92/100.\n",
            "Training accuracy: 96.78600311279297. Testing accuracy: 85.19000244140625. Duration: 25.527s.\n",
            "\n",
            "Epoch 93/100.\n",
            "Training accuracy: 97.15399932861328. Testing accuracy: 85.25. Duration: 25.560s.\n",
            "\n",
            "Epoch 94/100.\n",
            "Training accuracy: 96.4520034790039. Testing accuracy: 85.04000091552734. Duration: 25.444s.\n",
            "\n",
            "Epoch 95/100.\n",
            "Training accuracy: 96.70800018310547. Testing accuracy: 85.30999755859375. Duration: 25.453s.\n",
            "\n",
            "Epoch 96/100.\n",
            "Training accuracy: 97.2760009765625. Testing accuracy: 85.16999816894531. Duration: 25.408s.\n",
            "\n",
            "Epoch 97/100.\n",
            "Training accuracy: 97.17400360107422. Testing accuracy: 84.7699966430664. Duration: 25.458s.\n",
            "\n",
            "Epoch 98/100.\n",
            "Training accuracy: 97.12799835205078. Testing accuracy: 85.20999908447266. Duration: 25.464s.\n",
            "\n",
            "Epoch 99/100.\n",
            "Training accuracy: 96.86399841308594. Testing accuracy: 84.44000244140625. Duration: 25.485s.\n",
            "\n",
            "Epoch 100/100.\n",
            "Training accuracy: 97.16999816894531. Testing accuracy: 85.38999938964844. Duration: 25.510s.\n"
          ]
        },
        {
          "data": {
            "image/png": "[encoded data removed]",
            "text/plain": [
              "<Figure size 640x480 with 1 Axes>"
            ]
          },
          "metadata": {},
          "output_type": "display_data"
        },
        {
          "data": {
            "image/png": "[encoded data removed]",
            "text/plain": [
              "<Figure size 640x480 with 1 Axes>"
            ]
          },
          "metadata": {},
          "output_type": "display_data"
        }
      ],
      "source": [
        "losses = [] # Stores the loss for each training batch\n",
        "train_accs = [] # Stores the training accuracy after each epoch\n",
        "test_accs = [] # Stores the testing accuracy after each epoch\n",
        "\n",
        "num_epochs = 100\n",
        "for epoch in range(num_epochs):\n",
        "    print(f'\\nEpoch {epoch + 1}/{num_epochs}.')\n",
        "    start_time = time.perf_counter()\n",
        "\n",
        "    model.train() # This is necessary because batch normalization behaves differently between training and evaluation\n",
        "\n",
        "    for X, y in train_iter:\n",
        "        X, y = X.to(device), y.to(device) # Moves data to `device`\n",
        "        logits = model(X) # Computes the logits for the batch of images `X`\n",
        "        l = loss(logits, y) # Computes the loss given the `logits` and the class vector `y`\n",
        "        optimizer.zero_grad() # Zeroes the gradients stored in the model parameters\n",
        "        l.backward() # Computes the gradient of the loss `l` with respect to the model parameters\n",
        "\n",
        "        optimizer.step() # Updates the model parameters based on the gradients stored inside them\n",
        "\n",
        "        losses.append(float(l)) # Stores the loss for this batch\n",
        "\n",
        "    model.eval() # This is necessary because batch normalization behaves differently between training and evaluation\n",
        "    train_accs.append(evaluate_metric(model, train_iter, correct))\n",
        "    test_accs.append(evaluate_metric(model, test_iter, correct))\n",
        "\n",
        "    end_time = time.perf_counter()\n",
        "\n",
        "    print(f'Training accuracy: {train_accs[-1]}. Testing accuracy: {test_accs[-1]}. Duration: {end_time - start_time:.3f}s.') # Computes and displays training/testing dataset accuracy.\n",
        "\n",
        "plt.plot(losses) # Plots the loss for each training batch\n",
        "plt.xlabel('Training batch')\n",
        "plt.ylabel('Cross entropy loss')\n",
        "plt.show()\n",
        "\n",
        "plt.plot(list(map(lambda x: x.cpu(),train_accs)), label='Training accuracy')\n",
        "plt.plot(list(map(lambda x: x.cpu(),test_accs)), label='Testing accuracy')\n",
        "plt.legend(loc='best')\n",
        "plt.xlabel('Epoch')\n",
        "plt.show()"
      ]
    },
    {
      "cell_type": "code",
      "execution_count": 16,
      "id": "87089849",
      "metadata": {},
      "outputs": [
        {
          "name": "stdout",
          "output_type": "stream",
          "text": [
            "best train accuracy: 97.2760009765625\n",
            "best test accuracy: 85.16999816894531\n"
          ]
        }
      ],
      "source": [
        "print('best train accuracy: {}'.format(max(train_accs)))\n",
        "highest_value_index = max(enumerate(train_accs), key=lambda x: x[1])[0]\n",
        "print('best test accuracy: {}'.format(test_accs[highest_value_index]))"
      ]
    },
    {
      "cell_type": "code",
      "execution_count": null,
      "id": "fa0c52db",
      "metadata": {},
      "outputs": [],
      "source": []
    }
  ],
  "metadata": {
    "colab": {
      "provenance": []
    },
    "kernelspec": {
      "display_name": "Python 3 (ipykernel)",
      "language": "python",
      "name": "python3"
    },
    "language_info": {
      "codemirror_mode": {
        "name": "ipython",
        "version": 3
      },
      "file_extension": ".py",
      "mimetype": "text/x-python",
      "name": "python",
      "nbconvert_exporter": "python",
      "pygments_lexer": "ipython3",
      "version": "3.10.10"
    }
  },
  "nbformat": 4,
  "nbformat_minor": 5
}
